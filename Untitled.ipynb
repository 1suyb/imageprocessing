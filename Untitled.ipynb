{
 "cells": [
  {
   "cell_type": "code",
   "execution_count": 104,
   "id": "bf1c906c",
   "metadata": {},
   "outputs": [
    {
     "name": "stdout",
     "output_type": "stream",
     "text": [
      "4.5.5\n"
     ]
    }
   ],
   "source": [
    "import cv2\n",
    "import numpy as np\n",
    "print(cv2.__version__)"
   ]
  },
  {
   "cell_type": "code",
   "execution_count": 105,
   "id": "929e96d4",
   "metadata": {},
   "outputs": [
    {
     "name": "stdout",
     "output_type": "stream",
     "text": [
      "768 576\n"
     ]
    }
   ],
   "source": [
    "image = cv2.imread(\"ImageProcessingHW.jpg\",cv2.IMREAD_COLOR)\n",
    "image = cv2.resize(image,None,fx=0.3,fy=0.3, interpolation = cv2.INTER_AREA)\n",
    "print(len(image),len(image[0]))"
   ]
  },
  {
   "cell_type": "code",
   "execution_count": 106,
   "id": "aa8a7ae4",
   "metadata": {
    "scrolled": false
   },
   "outputs": [],
   "source": [
    "for i in range(0,576,50) :\n",
    "    image = cv2.line(image,(i,767),(i,767),(255,0,0),5)\n",
    "for i in range(0,768,50) :\n",
    "    image = cv2.line(image,(575,i),(575,i),(255,0,0),5)\n",
    "point = np.array([[100,50],[200,300],[700,200],[500,100]],np.int32)\n",
    "cv2.polylines(image,[point],True,(0,255,255))\n",
    "cv2.polylines(image,[point],False,(0,0,255))\n",
    "cv2.ellipse(image,(500,500),(50,100),0,0,180,255,-1)\n",
    "cv2.ellipse(image,(300,500),(20,10),90,0,180,255,-1)\n",
    "cv2.ellipse(image,(300,500),(100,100),90,90,180,255,5)\n",
    "cv2.rectangle(image,(200,10),(300,20),(0,255,0),-1)\n",
    "image = cv2.putText(image,'181977_suyeon',(100,600),cv2.FONT_HERSHEY_SIMPLEX,1,(255,0,0),2,cv2.LINE_AA)"
   ]
  },
  {
   "cell_type": "code",
   "execution_count": 107,
   "id": "fd70c5d0",
   "metadata": {},
   "outputs": [],
   "source": [
    "cv2.imshow(\"181977\",image)\n",
    "cv2.waitKey(0)\n",
    "cv2.destroyAllWindows()"
   ]
  },
  {
   "cell_type": "code",
   "execution_count": null,
   "id": "83743672",
   "metadata": {},
   "outputs": [],
   "source": []
  }
 ],
 "metadata": {
  "kernelspec": {
   "display_name": "ComputerVision",
   "language": "python",
   "name": "computervision"
  },
  "language_info": {
   "codemirror_mode": {
    "name": "ipython",
    "version": 3
   },
   "file_extension": ".py",
   "mimetype": "text/x-python",
   "name": "python",
   "nbconvert_exporter": "python",
   "pygments_lexer": "ipython3",
   "version": "3.8.12"
  }
 },
 "nbformat": 4,
 "nbformat_minor": 5
}
